{
 "cells": [
  {
   "cell_type": "markdown",
   "metadata": {},
   "source": [
    "# One-to-Many and Many-to-Many Joins - Lab"
   ]
  },
  {
   "cell_type": "markdown",
   "metadata": {},
   "source": [
    "## Introduction"
   ]
  },
  {
   "cell_type": "markdown",
   "metadata": {},
   "source": [
    "In this lab, you'll practice your knowledge of one-to-many and many-to-many relationships!"
   ]
  },
  {
   "cell_type": "markdown",
   "metadata": {},
   "source": [
    "## Objectives\n",
    "\n",
    "You will be able to:\n",
    "\n",
    "* Explain one-to-many and many-to-many joins as well as implications for the size of query results\n",
    "* Query data using one-to-many and many-to-many joins"
   ]
  },
  {
   "cell_type": "markdown",
   "metadata": {},
   "source": [
    "## One-to-Many and Many-to-Many Joins\n",
    "<img src='https://curriculum-content.s3.amazonaws.com/data-science/images/Database-Schema.png' width=\"600\">"
   ]
  },
  {
   "cell_type": "markdown",
   "metadata": {},
   "source": [
    "## Connect to the Database\n",
    "\n",
    "Include the relevant imports, then connect to the database located at `data.sqlite`."
   ]
  },
  {
   "cell_type": "code",
   "execution_count": 1,
   "metadata": {},
   "outputs": [],
   "source": [
    "# connect to database\n",
    "import sqlite3\n",
    "import pandas as pd\n",
    "conn= sqlite3.connect('data.sqlite')\n",
    "# create a cursor\n",
    "cur= conn.cursor()\n"
   ]
  },
  {
   "cell_type": "markdown",
   "metadata": {},
   "source": [
    "## Employees and Their Offices (a One-to-One Join)\n",
    "\n",
    "Select all of the employees including their first name and last name along with the city and state of the office that they work out of (if they have one). Include all employees and order them by their first name, then their last name."
   ]
  },
  {
   "cell_type": "code",
   "execution_count": 6,
   "metadata": {},
   "outputs": [
    {
     "name": "stdout",
     "output_type": "stream",
     "text": [
      "   firstName   lastName           city       state\n",
      "0       Andy     Fixter         Sydney            \n",
      "1    Anthony        Bow  San Francisco          CA\n",
      "2      Barry      Jones         London            \n",
      "3      Diane     Murphy  San Francisco          CA\n",
      "4   Foon Yue      Tseng            NYC          NY\n",
      "5     George     Vanauf            NYC          NY\n",
      "6     Gerard     Bondur          Paris            \n",
      "7     Gerard  Hernandez          Paris            \n",
      "8       Jeff   Firrelli  San Francisco          CA\n",
      "9      Julie   Firrelli         Boston          MA\n",
      "10     Larry       Bott         London            \n",
      "11    Leslie   Jennings  San Francisco          CA\n",
      "12    Leslie   Thompson  San Francisco          CA\n",
      "13      Loui     Bondur          Paris            \n",
      "14      Mami      Nishi          Tokyo  Chiyoda-Ku\n",
      "15    Martin     Gerard          Paris            \n",
      "16      Mary  Patterson  San Francisco          CA\n",
      "17    Pamela   Castillo          Paris            \n",
      "18     Peter      Marsh         Sydney            \n",
      "19     Steve  Patterson         Boston          MA\n",
      "20       Tom       King         Sydney            \n",
      "21   William  Patterson         Sydney            \n",
      "22   Yoshimi       Kato          Tokyo  Chiyoda-Ku\n"
     ]
    }
   ],
   "source": [
    "# Your code here!\n",
    "# select all employees along with the city and state of their office. include all employees and order by first name,then last name\n",
    "q= ''' \n",
    "SELECT employees.firstName, employees.lastName, offices.city, offices.state\n",
    "FROM employees\n",
    "JOIN offices\n",
    "ON employees.officeCode = offices.officeCode\n",
    "ORDER BY employees.firstName, employees.lastName\n",
    "'''\n",
    "#display the result\n",
    "df= pd.read_sql_query(q, conn)\n",
    "print(df)\n"
   ]
  },
  {
   "cell_type": "markdown",
   "metadata": {},
   "source": [
    "## Customers and Their Orders (a One-to-Many Join)\n",
    "\n",
    "Select all of the customer contacts (first and last names) along with details for each of the customers' order numbers, order dates, and statuses."
   ]
  },
  {
   "cell_type": "code",
   "execution_count": 8,
   "metadata": {},
   "outputs": [
    {
     "name": "stdout",
     "output_type": "stream",
     "text": [
      "    contactFirstName contactLastName  orderNumber   orderDate      status\n",
      "0             Adrian          Huxley        10139  2003-07-16     Shipped\n",
      "1             Adrian          Huxley        10270  2004-07-19     Shipped\n",
      "2             Adrian          Huxley        10361  2004-12-17     Shipped\n",
      "3             Adrian          Huxley        10420  2005-05-29  In Process\n",
      "4              Akiko       Shimamura        10258  2004-06-15     Shipped\n",
      "..               ...             ...          ...         ...         ...\n",
      "321             Wing           Huang        10365  2005-01-07     Shipped\n",
      "322           Yoshi           Tamuri        10206  2003-12-05     Shipped\n",
      "323           Yoshi           Tamuri        10313  2004-10-22     Shipped\n",
      "324               Yu            Choi        10242  2004-04-20     Shipped\n",
      "325               Yu            Choi        10319  2004-11-03     Shipped\n",
      "\n",
      "[326 rows x 5 columns]\n"
     ]
    }
   ],
   "source": [
    "# select all customer contacts along with details for each of the customers' order numbers,order dates,and statuses\n",
    "q = ''' \n",
    "SELECT customers.contactFirstName, customers.contactLastName, orders.orderNumber, orders.orderDate, orders.status\n",
    "FROM customers\n",
    "JOIN orders\n",
    "ON customers.customerNumber = orders.customerNumber\n",
    "ORDER BY customers.contactFirstName, customers.contactLastName\n",
    "'''\n",
    "#display the result\n",
    "df= pd.read_sql_query(q, conn)\n",
    "print(df)"
   ]
  },
  {
   "cell_type": "markdown",
   "metadata": {},
   "source": [
    "## Customers and Their Payments (Another One-to-Many Join)\n",
    "\n",
    "Select all of the customer contacts (first and last names) along with details for each of the customers' payment amounts and date of payment. Sort these results in descending order by the payment amount. "
   ]
  },
  {
   "cell_type": "code",
   "execution_count": 10,
   "metadata": {},
   "outputs": [
    {
     "name": "stdout",
     "output_type": "stream",
     "text": [
      "    contactFirstName contactLastName     amount paymentDate\n",
      "0             Diego           Freyre  120166.58  2005-03-18\n",
      "1             Diego           Freyre  116208.40  2004-12-31\n",
      "2              Susan          Nelson  111654.40  2003-08-15\n",
      "3               Eric       Natividad  105743.00  2003-12-26\n",
      "4              Susan          Nelson  101244.59  2005-03-05\n",
      "..               ...             ...        ...         ...\n",
      "268          Carine          Schmitt    1676.14  2004-12-18\n",
      "269         Pascale         Cartrain    1627.56  2003-04-19\n",
      "270           Jonas       Bergulfsen    1491.38  2003-10-28\n",
      "271         Pascale         Cartrain    1128.20  2003-08-22\n",
      "272            Akiko       Shimamura     615.45  2005-05-18\n",
      "\n",
      "[273 rows x 4 columns]\n"
     ]
    }
   ],
   "source": [
    "# Select all customer contacts along with details for each of the customers' payment amounts and date of payment. sort in descending order by payment amount \n",
    "q= ''' \n",
    "SELECT customers.contactFirstName, customers.contactLastName, payments.amount, payments.paymentDate\n",
    "FROM customers\n",
    "JOIN payments\n",
    "ON customers.customerNumber = payments.customerNumber\n",
    "ORDER BY payments.amount DESC\n",
    "'''\n",
    "#display the result\n",
    "df= pd.read_sql_query(q, conn)\n",
    "print(df)\n"
   ]
  },
  {
   "cell_type": "markdown",
   "metadata": {},
   "source": [
    "## Orders, Order Details, and Product Details (a Many-to-Many Join)"
   ]
  },
  {
   "cell_type": "markdown",
   "metadata": {},
   "source": [
    "Select all of the customer contacts (first and last names) along with the product names, quantities, and date ordered for each of the customers and each of their orders. Sort these in descending order by the order date.\n",
    "\n",
    "> Note: This will require joining 4 tables! This can be tricky! Give it a shot, and if you're still stuck, turn to the next section where you'll see how to write subqueries that can make complex queries such as this much simpler!"
   ]
  },
  {
   "cell_type": "code",
   "execution_count": 11,
   "metadata": {},
   "outputs": [
    {
     "name": "stdout",
     "output_type": "stream",
     "text": [
      "     contactFirstName contactLastName  \\\n",
      "0             Janine          Labrune   \n",
      "1             Janine          Labrune   \n",
      "2             Janine          Labrune   \n",
      "3             Janine          Labrune   \n",
      "4             Janine          Labrune   \n",
      "...               ...             ...   \n",
      "2991           Roland          Keitel   \n",
      "2992          Dorothy           Young   \n",
      "2993          Dorothy           Young   \n",
      "2994          Dorothy           Young   \n",
      "2995          Dorothy           Young   \n",
      "\n",
      "                                    productName  quantityOrdered   orderDate  \n",
      "0                        1962 LanciaA Delta 16V               38  2005-05-31  \n",
      "1                             1957 Chevy Pickup               33  2005-05-31  \n",
      "2                1998 Chrysler Plymouth Prowler               28  2005-05-31  \n",
      "3                        1964 Mercedes Tour Bus               38  2005-05-31  \n",
      "4                         1926 Ford Fire Engine               19  2005-05-31  \n",
      "...                                         ...              ...         ...  \n",
      "2991  1938 Cadillac V-16 Presidential Limousine               46  2003-01-09  \n",
      "2992                   1917 Grand Touring Sedan               30  2003-01-06  \n",
      "2993                         1911 Ford Town Car               50  2003-01-06  \n",
      "2994        1932 Alfa Romeo 8C2300 Spider Sport               22  2003-01-06  \n",
      "2995           1936 Mercedes Benz 500k Roadster               49  2003-01-06  \n",
      "\n",
      "[2996 rows x 5 columns]\n"
     ]
    }
   ],
   "source": [
    "# Select all customer contacts along with product names,quantities,and date ordered for each of the customers and each of their orders. sort in descending order by order date\n",
    "q = ''' \n",
    "SELECT customers.contactFirstName, customers.contactLastName, products.productName, orderdetails.quantityOrdered, orders.orderDate\n",
    "FROM customers\n",
    "JOIN orders\n",
    "ON customers.customerNumber = orders.customerNumber\n",
    "JOIN orderdetails\n",
    "on orders.orderNumber = orderdetails.orderNumber\n",
    "JOIN products\n",
    "ON orderdetails.productCode = products.productCode\n",
    "ORDER BY orders.orderDate DESC\n",
    "'''\n",
    "#display the result\n",
    "df= pd.read_sql_query(q, conn)\n",
    "print(df)\n"
   ]
  },
  {
   "cell_type": "code",
   "execution_count": 12,
   "metadata": {},
   "outputs": [],
   "source": [
    "#close the connection\n",
    "conn.close()"
   ]
  },
  {
   "cell_type": "markdown",
   "metadata": {},
   "source": [
    "## Summary"
   ]
  },
  {
   "cell_type": "markdown",
   "metadata": {},
   "source": [
    "In this lab, you practiced your knowledge of one-to-many and many-to-many relationships!"
   ]
  }
 ],
 "metadata": {
  "kernelspec": {
   "display_name": "learn-env",
   "language": "python",
   "name": "python3"
  },
  "language_info": {
   "codemirror_mode": {
    "name": "ipython",
    "version": 3
   },
   "file_extension": ".py",
   "mimetype": "text/x-python",
   "name": "python",
   "nbconvert_exporter": "python",
   "pygments_lexer": "ipython3",
   "version": "3.8.20"
  },
  "toc": {
   "base_numbering": 1,
   "nav_menu": {},
   "number_sections": true,
   "sideBar": true,
   "skip_h1_title": false,
   "title_cell": "Table of Contents",
   "title_sidebar": "Contents",
   "toc_cell": false,
   "toc_position": {},
   "toc_section_display": true,
   "toc_window_display": false
  }
 },
 "nbformat": 4,
 "nbformat_minor": 2
}
